{
 "cells": [
  {
   "cell_type": "code",
   "execution_count": null,
   "metadata": {},
   "outputs": [],
   "source": []
  },
  {
   "cell_type": "code",
   "execution_count": null,
   "metadata": {},
   "outputs": [],
   "source": [
    "def get_values(specie,net1):\n",
    "    \n",
    "    net1_proteins = []\n",
    "    net1_bitscores = []\n",
    "    net1_evalues = []\n",
    "    \n",
    "    for i in range(len(net1)):\n",
    "        \n",
    "        protiens = []\n",
    "        bitscores = []\n",
    "        evalues = []\n",
    "        \n",
    "        # get the file\n",
    "        f = open(\"PsiBlast/\"+specie+\"/\"+net1[i]+\"_output\")\n",
    "        lines = f.readlines()\n",
    "        f.close()\n",
    "        \n",
    "        # get the start indexe of results\n",
    "        for j in range(len(lines)-2):\n",
    "            if \"Sequences used in model and found again\" in lines[j]:\n",
    "                if str(lines[j+2]).startswith(\"UniRef90_\"):\n",
    "                    index_start_r1 = j+2\n",
    "                else:\n",
    "                    index_start_r1 = -1\n",
    "                    \n",
    "        # get relevent information            \n",
    "        if index_start_r1 != -1:\n",
    "            for j in range(index_start_r1,len(lines)):\n",
    "                if lines[j].startswith(\"UniRef90_\"):\n",
    "                    tokens = \" \".join(lines[j].split()).split(\" \")\n",
    "                    protiens.append(tokens[0].split(\"_\")[1])\n",
    "                    bitscores.append(tokens[-2])\n",
    "                    evalues.append(tokens[-1].strip(\"\\n\"))\n",
    "                    \n",
    "        net1_proteins.append(protiens)\n",
    "        net1_bitscores.append(bitscores)\n",
    "        net1_evalues.append(evalues)\n",
    "    \n",
    "    return net1_proteins, net1_bitscores, net1_evalues\n"
   ]
  }
 ],
 "metadata": {
  "kernelspec": {
   "display_name": "Python 3",
   "language": "python",
   "name": "python3"
  },
  "language_info": {
   "codemirror_mode": {
    "name": "ipython",
    "version": 3
   },
   "file_extension": ".py",
   "mimetype": "text/x-python",
   "name": "python",
   "nbconvert_exporter": "python",
   "pygments_lexer": "ipython3",
   "version": "3.6.9"
  }
 },
 "nbformat": 4,
 "nbformat_minor": 2
}
