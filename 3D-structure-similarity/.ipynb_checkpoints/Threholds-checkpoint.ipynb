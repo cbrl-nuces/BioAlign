{
 "cells": [
  {
   "cell_type": "code",
   "execution_count": 1,
   "metadata": {},
   "outputs": [],
   "source": [
    "def function(filename):\n",
    "    \n",
    "    f = open(filename+\".tmscore\")\n",
    "    lines = f.readlines()\n",
    "    f.close()\n",
    "\n",
    "    pairs = []\n",
    "    list_ = []\n",
    "    for i in range(len(lines)): # len(lines)\n",
    "        tokens = lines[i].split(\"\\t\")    \n",
    "        if float(tokens[2]) >= 0.40:\n",
    "            #scores.append(float(tokens[2]))\n",
    "            pairs.append(tokens[0] + \"\\t\" + tokens[1] + \"\\t\" + tokens[2])\n",
    "            list_.append(tokens[2])\n",
    "    list_, pairs = (list(t) for t in zip(*sorted(zip(list_,pairs),reverse=True)))\n",
    "#     print (list_[0:10])\n",
    "#     print (pairs[0:10])\n",
    "    f = open(filename+\".txt\",'w')\n",
    "    f.writelines(pairs)\n",
    "    f.close()"
   ]
  },
  {
   "cell_type": "code",
   "execution_count": 2,
   "metadata": {},
   "outputs": [],
   "source": [
    "function(\"mouse-fly\")"
   ]
  },
  {
   "cell_type": "code",
   "execution_count": 15,
   "metadata": {},
   "outputs": [],
   "source": [
    "function(\"mouse-worm\")"
   ]
  },
  {
   "cell_type": "code",
   "execution_count": null,
   "metadata": {},
   "outputs": [],
   "source": [
    "function(\"mouse-yeast\")"
   ]
  },
  {
   "cell_type": "code",
   "execution_count": null,
   "metadata": {},
   "outputs": [],
   "source": [
    "function(\"mouse-human\")"
   ]
  },
  {
   "cell_type": "code",
   "execution_count": null,
   "metadata": {},
   "outputs": [],
   "source": [
    "function(\"yeast-human\")"
   ]
  }
 ],
 "metadata": {
  "kernelspec": {
   "display_name": "Python 3",
   "language": "python",
   "name": "python3"
  },
  "language_info": {
   "codemirror_mode": {
    "name": "ipython",
    "version": 3
   },
   "file_extension": ".py",
   "mimetype": "text/x-python",
   "name": "python",
   "nbconvert_exporter": "python",
   "pygments_lexer": "ipython3",
   "version": "3.6.9"
  }
 },
 "nbformat": 4,
 "nbformat_minor": 2
}
