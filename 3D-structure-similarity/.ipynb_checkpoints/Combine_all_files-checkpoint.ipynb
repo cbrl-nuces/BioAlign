{
 "cells": [
  {
   "cell_type": "code",
   "execution_count": 1,
   "metadata": {},
   "outputs": [],
   "source": [
    "import os"
   ]
  },
  {
   "cell_type": "code",
   "execution_count": 3,
   "metadata": {},
   "outputs": [
    {
     "name": "stdout",
     "output_type": "stream",
     "text": [
      "7\n"
     ]
    },
    {
     "ename": "NameError",
     "evalue": "name 'name' is not defined",
     "output_type": "error",
     "traceback": [
      "\u001b[0;31m---------------------------------------------------------------------------\u001b[0m",
      "\u001b[0;31mNameError\u001b[0m                                 Traceback (most recent call last)",
      "\u001b[0;32m<ipython-input-3-91d374e15746>\u001b[0m in \u001b[0;36m<module>\u001b[0;34m\u001b[0m\n\u001b[1;32m      7\u001b[0m \u001b[0;32mfor\u001b[0m \u001b[0mi\u001b[0m \u001b[0;32min\u001b[0m \u001b[0mrange\u001b[0m\u001b[0;34m(\u001b[0m\u001b[0mlen\u001b[0m\u001b[0;34m(\u001b[0m\u001b[0mnames\u001b[0m\u001b[0;34m)\u001b[0m\u001b[0;34m)\u001b[0m\u001b[0;34m:\u001b[0m\u001b[0;34m\u001b[0m\u001b[0;34m\u001b[0m\u001b[0m\n\u001b[1;32m      8\u001b[0m     \u001b[0;32mif\u001b[0m \u001b[0;34m'tmscore'\u001b[0m \u001b[0;32min\u001b[0m \u001b[0mnames\u001b[0m\u001b[0;34m[\u001b[0m\u001b[0mi\u001b[0m\u001b[0;34m]\u001b[0m\u001b[0;34m:\u001b[0m\u001b[0;34m\u001b[0m\u001b[0;34m\u001b[0m\u001b[0m\n\u001b[0;32m----> 9\u001b[0;31m         \u001b[0mprint\u001b[0m \u001b[0;34m(\u001b[0m\u001b[0mname\u001b[0m\u001b[0;34m[\u001b[0m\u001b[0mi\u001b[0m\u001b[0;34m]\u001b[0m\u001b[0;34m)\u001b[0m\u001b[0;34m\u001b[0m\u001b[0;34m\u001b[0m\u001b[0m\n\u001b[0m\u001b[1;32m     10\u001b[0m         \u001b[0;32mwith\u001b[0m \u001b[0mopen\u001b[0m\u001b[0;34m(\u001b[0m\u001b[0mnames\u001b[0m\u001b[0;34m[\u001b[0m\u001b[0mi\u001b[0m\u001b[0;34m]\u001b[0m\u001b[0;34m,\u001b[0m \u001b[0;34m'r'\u001b[0m\u001b[0;34m)\u001b[0m \u001b[0;32mas\u001b[0m \u001b[0minfile\u001b[0m\u001b[0;34m:\u001b[0m\u001b[0;34m\u001b[0m\u001b[0;34m\u001b[0m\u001b[0m\n\u001b[1;32m     11\u001b[0m             \u001b[0mf\u001b[0m \u001b[0;34m=\u001b[0m \u001b[0minfile\u001b[0m\u001b[0;34m.\u001b[0m\u001b[0mreadlines\u001b[0m\u001b[0;34m(\u001b[0m\u001b[0;34m)\u001b[0m\u001b[0;34m\u001b[0m\u001b[0;34m\u001b[0m\u001b[0m\n",
      "\u001b[0;31mNameError\u001b[0m: name 'name' is not defined"
     ]
    }
   ],
   "source": [
    "names = os.listdir()\n",
    "f_list = []\n",
    "final_list = []\n",
    "count = 0\n",
    "print (len(names))\n",
    "\n",
    "for i in range(len(names)):\n",
    "    if 'tmscore' in names[i]:\n",
    "        print (names[i])\n",
    "        with open(names[i], 'r') as infile:\n",
    "            f = infile.readlines()\n",
    "            for j in range(len(f)):\n",
    "                f_list.append(f[j])\n",
    "            \n",
    "print (\"Remaining = \",count)"
   ]
  },
  {
   "cell_type": "code",
   "execution_count": 9,
   "metadata": {},
   "outputs": [],
   "source": [
    "f = open(\"all_local\",'w')\n",
    "f.writelines(f_list)\n",
    "f.close()"
   ]
  },
  {
   "cell_type": "code",
   "execution_count": 12,
   "metadata": {},
   "outputs": [],
   "source": [
    "\n",
    "# Redundency check\n",
    "\n",
    "# temp = []\n",
    "# count = 0\n",
    "\n",
    "# for i in range(len(f_list)):\n",
    "#     if i % 50000 == 0:\n",
    "#         print (\"Done\",i)\n",
    "#     if f_list[i] not in temp:\n",
    "#         temp.append(f_list[i])\n",
    "#         final_list.append(f_list[i])\n",
    "#         if len(temp) > 50000:\n",
    "#             temp = temp[1000:50000]\n",
    "#     else:\n",
    "#         count+=1\n",
    "        \n",
    "# print (\"Repeated = \",count)\n",
    "# print (\"length of final list = \",len(final_list))"
   ]
  },
  {
   "cell_type": "code",
   "execution_count": 14,
   "metadata": {},
   "outputs": [
    {
     "name": "stdout",
     "output_type": "stream",
     "text": [
      "39266 26496 19376\n",
      "14860 11702 9438 7924\n"
     ]
    }
   ],
   "source": [
    "f = open(\"final_swap-30.bitscore\",'r')\n",
    "lines = f.readlines()\n",
    "f.close()\n",
    "count = 0\n",
    "count2=0\n",
    "count3 =0\n",
    "count4 = 0\n",
    "count5=0\n",
    "count6 =0\n",
    "count7=0\n",
    "for i in range(len(lines)):\n",
    "    tokens = lines[i].split(\"\\t\")\n",
    "    tok_val = float(tokens[-1].strip())\n",
    "    if tok_val > 200:\n",
    "        count += 1\n",
    "    if tok_val > 250:\n",
    "        count2 += 1\n",
    "    if tok_val > 300:\n",
    "        count3 += 1\n",
    "    if tok_val > 350:\n",
    "        count4 += 1\n",
    "    if tok_val > 400:\n",
    "        count5 += 1\n",
    "    if tok_val > 450:\n",
    "        count6 += 1\n",
    "    if tok_val > 500:\n",
    "        count7 += 1\n",
    "        #print (tok_val)\n",
    "        \n",
    "print (count, count2, count3)\n",
    "print (count4, count5, count6,count7)"
   ]
  },
  {
   "cell_type": "code",
   "execution_count": null,
   "metadata": {},
   "outputs": [],
   "source": []
  }
 ],
 "metadata": {
  "kernelspec": {
   "display_name": "Python 3",
   "language": "python",
   "name": "python3"
  },
  "language_info": {
   "codemirror_mode": {
    "name": "ipython",
    "version": 3
   },
   "file_extension": ".py",
   "mimetype": "text/x-python",
   "name": "python",
   "nbconvert_exporter": "python",
   "pygments_lexer": "ipython3",
   "version": "3.6.9"
  }
 },
 "nbformat": 4,
 "nbformat_minor": 2
}
