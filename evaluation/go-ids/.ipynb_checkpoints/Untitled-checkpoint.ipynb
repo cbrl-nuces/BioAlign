{
 "cells": [
  {
   "cell_type": "code",
   "execution_count": 16,
   "metadata": {},
   "outputs": [
    {
     "name": "stdout",
     "output_type": "stream",
     "text": [
      "5036\n"
     ]
    }
   ],
   "source": [
    "f = open(\"yeast/mf-go.txt\")\n",
    "lines = f.readlines()\n",
    "f.close()\n",
    "\n",
    "print (len(lines))"
   ]
  },
  {
   "cell_type": "code",
   "execution_count": 19,
   "metadata": {},
   "outputs": [
    {
     "name": "stdout",
     "output_type": "stream",
     "text": [
      "1387\n"
     ]
    }
   ],
   "source": [
    "count=0\n",
    "for i in range(len(lines)):\n",
    "    tokens = lines[i].strip(\"\\n\").split(\"\\t\")\n",
    "#     print (len(tokens),tokens)\n",
    "    if len(tokens) == 1:\n",
    "        count+=1\n",
    "        \n",
    "print (count)"
   ]
  },
  {
   "cell_type": "code",
   "execution_count": null,
   "metadata": {},
   "outputs": [],
   "source": [
    "# Yeast BP = 762\n",
    "# MF = 1387"
   ]
  }
 ],
 "metadata": {
  "kernelspec": {
   "display_name": "Python 3",
   "language": "python",
   "name": "python3"
  },
  "language_info": {
   "codemirror_mode": {
    "name": "ipython",
    "version": 3
   },
   "file_extension": ".py",
   "mimetype": "text/x-python",
   "name": "python",
   "nbconvert_exporter": "python",
   "pygments_lexer": "ipython3",
   "version": "3.8.3"
  }
 },
 "nbformat": 4,
 "nbformat_minor": 4
}
