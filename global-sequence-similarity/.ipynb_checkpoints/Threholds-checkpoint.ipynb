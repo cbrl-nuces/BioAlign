{
 "cells": [
  {
   "cell_type": "code",
   "execution_count": 48,
   "metadata": {},
   "outputs": [],
   "source": [
    "def function(filename):\n",
    "    \n",
    "    f = open(filename+\"-mod.blast\")\n",
    "    lines = f.readlines()\n",
    "    f.close()\n",
    "    \n",
    "    f = open(\"../networks/\"+filename.split(\"-\")[0]+\".interaction\")\n",
    "    net1 = f.readlines()\n",
    "    f.close()\n",
    "    \n",
    "    nodes_a = []\n",
    "    for i in range(len(net1)):\n",
    "        tokens = net1[i].strip(\"\\n\").split(\"\\t\")\n",
    "        if tokens[0] not in nodes_a:\n",
    "            nodes_a.append(tokens[0])\n",
    "            \n",
    "        if tokens[1] not in nodes_a:\n",
    "            nodes_a.append(tokens[1])\n",
    "    \n",
    "    f = open(\"../networks/\"+filename.split(\"-\")[1]+\".interaction\")\n",
    "    net2 = f.readlines()\n",
    "    f.close()\n",
    "    \n",
    "    nodes_b = []\n",
    "    for i in range(len(net2)):\n",
    "        tokens = net2[i].strip(\"\\n\").split(\"\\t\")\n",
    "        \n",
    "        if tokens[0] not in nodes_b:\n",
    "            nodes_b.append(tokens[0])\n",
    "            \n",
    "        if tokens[1] not in nodes_b:\n",
    "            nodes_b.append(tokens[1])\n",
    "            \n",
    "    print (len(nodes_a),len(nodes_b))\n",
    "    \n",
    "    pairs = []\n",
    "    list_ = []\n",
    "    \n",
    "    count=0\n",
    "    count2=0\n",
    "    \n",
    "    for i in range(len(lines)): # len(lines)\n",
    "        tokens = lines[i].strip(\"\\n\").split(\"\\t\")    \n",
    "        if float(tokens[2]) >= 0.30:\n",
    "            \n",
    "            if tokens[0] in nodes_a:\n",
    "                pairs.append(tokens[0] + \"\\t\" + tokens[1] + \"\\t\" + tokens[2] + \"\\n\")\n",
    "                list_.append(float(tokens[2]))\n",
    "                count+=1\n",
    "                \n",
    "            elif tokens[0] in nodes_b:\n",
    "                pairs.append(tokens[1] + \"\\t\" + tokens[0] + \"\\t\" + tokens[2] + \"\\n\")\n",
    "                list_.append(float(tokens[2]))\n",
    "                count2+=1\n",
    "                \n",
    "    print (count, count2)            \n",
    "    list_, pairs = (list(t) for t in zip(*sorted(zip(list_,pairs),reverse=True)))\n",
    "    f = open(filename+\".blast\",'w')\n",
    "    f.writelines(pairs)\n",
    "    f.close()"
   ]
  },
  {
   "cell_type": "code",
   "execution_count": 43,
   "metadata": {},
   "outputs": [
    {
     "name": "stdout",
     "output_type": "stream",
     "text": [
      "744 10791\n",
      "55185 0\n"
     ]
    }
   ],
   "source": [
    "function(\"mouse-human\")"
   ]
  },
  {
   "cell_type": "code",
   "execution_count": 44,
   "metadata": {},
   "outputs": [
    {
     "name": "stdout",
     "output_type": "stream",
     "text": [
      "744 4486\n",
      "17582 0\n"
     ]
    }
   ],
   "source": [
    "function(\"mouse-worm\")"
   ]
  },
  {
   "cell_type": "code",
   "execution_count": 45,
   "metadata": {},
   "outputs": [
    {
     "name": "stdout",
     "output_type": "stream",
     "text": [
      "744 5036\n",
      "5808 0\n"
     ]
    }
   ],
   "source": [
    "function(\"mouse-yeast\")"
   ]
  },
  {
   "cell_type": "code",
   "execution_count": 46,
   "metadata": {},
   "outputs": [
    {
     "name": "stdout",
     "output_type": "stream",
     "text": [
      "744 7498\n",
      "27370 0\n"
     ]
    }
   ],
   "source": [
    "function(\"mouse-fly\")"
   ]
  },
  {
   "cell_type": "code",
   "execution_count": 47,
   "metadata": {},
   "outputs": [
    {
     "name": "stdout",
     "output_type": "stream",
     "text": [
      "5036 10791\n",
      "0 83531\n"
     ]
    }
   ],
   "source": [
    "function(\"yeast-human\")"
   ]
  },
  {
   "cell_type": "code",
   "execution_count": 49,
   "metadata": {},
   "outputs": [
    {
     "name": "stdout",
     "output_type": "stream",
     "text": [
      "5036 10791\n",
      "83531 0\n"
     ]
    }
   ],
   "source": [
    "function(\"yeast-human\")"
   ]
  },
  {
   "cell_type": "code",
   "execution_count": null,
   "metadata": {},
   "outputs": [],
   "source": []
  }
 ],
 "metadata": {
  "kernelspec": {
   "display_name": "Python 3",
   "language": "python",
   "name": "python3"
  },
  "language_info": {
   "codemirror_mode": {
    "name": "ipython",
    "version": 3
   },
   "file_extension": ".py",
   "mimetype": "text/x-python",
   "name": "python",
   "nbconvert_exporter": "python",
   "pygments_lexer": "ipython3",
   "version": "3.6.9"
  }
 },
 "nbformat": 4,
 "nbformat_minor": 2
}
