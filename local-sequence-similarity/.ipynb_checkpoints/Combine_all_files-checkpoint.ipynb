{
 "cells": [
  {
   "cell_type": "code",
   "execution_count": 2,
   "metadata": {},
   "outputs": [],
   "source": [
    "import os"
   ]
  },
  {
   "cell_type": "code",
   "execution_count": 3,
   "metadata": {},
   "outputs": [
    {
     "name": "stdout",
     "output_type": "stream",
     "text": [
      "7\n",
      "mouse-fly.txt\n",
      "mouse-worm.txt\n",
      "mouse-yeast.txt\n",
      "yeast-human.txt\n",
      "mouse-human.txt\n",
      "Remaining =  0\n"
     ]
    }
   ],
   "source": [
    "names = os.listdir()\n",
    "f_list = []\n",
    "final_list = []\n",
    "count = 0\n",
    "print (len(names))\n",
    "\n",
    "for i in range(len(names)):\n",
    "    if 'txt' in names[i]:\n",
    "        print (names[i])\n",
    "        with open(names[i], 'r') as infile:\n",
    "            f = infile.readlines()\n",
    "            for j in range(len(f)):\n",
    "                f_list.append(f[j])\n",
    "            \n",
    "print (\"Remaining = \",count)"
   ]
  },
  {
   "cell_type": "code",
   "execution_count": 4,
   "metadata": {},
   "outputs": [],
   "source": [
    "f = open(\"all-localscores.txt\",'w')\n",
    "f.writelines(f_list)\n",
    "f.close()"
   ]
  },
  {
   "cell_type": "code",
   "execution_count": 12,
   "metadata": {},
   "outputs": [],
   "source": [
    "\n",
    "# Redundency check\n",
    "\n",
    "# temp = []\n",
    "# count = 0\n",
    "\n",
    "# for i in range(len(f_list)):\n",
    "#     if i % 50000 == 0:\n",
    "#         print (\"Done\",i)\n",
    "#     if f_list[i] not in temp:\n",
    "#         temp.append(f_list[i])\n",
    "#         final_list.append(f_list[i])\n",
    "#         if len(temp) > 50000:\n",
    "#             temp = temp[1000:50000]\n",
    "#     else:\n",
    "#         count+=1\n",
    "        \n",
    "# print (\"Repeated = \",count)\n",
    "# print (\"length of final list = \",len(final_list))"
   ]
  },
  {
   "cell_type": "code",
   "execution_count": 14,
   "metadata": {},
   "outputs": [
    {
     "name": "stdout",
     "output_type": "stream",
     "text": [
      "39266 26496 19376\n",
      "14860 11702 9438 7924\n"
     ]
    }
   ],
   "source": [
    "f = open(\"final_swap-30.bitscore\",'r')\n",
    "lines = f.readlines()\n",
    "f.close()\n",
    "count = 0\n",
    "count2=0\n",
    "count3 =0\n",
    "count4 = 0\n",
    "count5=0\n",
    "count6 =0\n",
    "count7=0\n",
    "for i in range(len(lines)):\n",
    "    tokens = lines[i].split(\"\\t\")\n",
    "    tok_val = float(tokens[-1].strip())\n",
    "    if tok_val > 200:\n",
    "        count += 1\n",
    "    if tok_val > 250:\n",
    "        count2 += 1\n",
    "    if tok_val > 300:\n",
    "        count3 += 1\n",
    "    if tok_val > 350:\n",
    "        count4 += 1\n",
    "    if tok_val > 400:\n",
    "        count5 += 1\n",
    "    if tok_val > 450:\n",
    "        count6 += 1\n",
    "    if tok_val > 500:\n",
    "        count7 += 1\n",
    "        #print (tok_val)\n",
    "        \n",
    "print (count, count2, count3)\n",
    "print (count4, count5, count6,count7)"
   ]
  },
  {
   "cell_type": "code",
   "execution_count": null,
   "metadata": {},
   "outputs": [],
   "source": []
  }
 ],
 "metadata": {
  "kernelspec": {
   "display_name": "Python 3",
   "language": "python",
   "name": "python3"
  },
  "language_info": {
   "codemirror_mode": {
    "name": "ipython",
    "version": 3
   },
   "file_extension": ".py",
   "mimetype": "text/x-python",
   "name": "python",
   "nbconvert_exporter": "python",
   "pygments_lexer": "ipython3",
   "version": "3.6.9"
  }
 },
 "nbformat": 4,
 "nbformat_minor": 2
}
